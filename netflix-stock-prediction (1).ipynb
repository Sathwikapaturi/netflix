{
 "cells": [
  {
   "cell_type": "code",
   "execution_count": 1,
   "id": "df5ac878",
   "metadata": {
    "execution": {
     "iopub.execute_input": "2025-01-06T13:15:10.474550Z",
     "iopub.status.busy": "2025-01-06T13:15:10.474144Z",
     "iopub.status.idle": "2025-01-06T13:15:12.438869Z",
     "shell.execute_reply": "2025-01-06T13:15:12.437745Z"
    },
    "papermill": {
     "duration": 1.973478,
     "end_time": "2025-01-06T13:15:12.440949",
     "exception": false,
     "start_time": "2025-01-06T13:15:10.467471",
     "status": "completed"
    },
    "tags": []
   },
   "outputs": [],
   "source": [
    "import pandas as pd\n",
    "import numpy as np\n",
    "import matplotlib.pyplot as plt\n",
    "import seaborn as sns"
   ]
  },
  {
   "cell_type": "markdown",
   "id": "74aa1e0e",
   "metadata": {
    "papermill": {
     "duration": 0.004427,
     "end_time": "2025-01-06T13:15:12.450452",
     "exception": false,
     "start_time": "2025-01-06T13:15:12.446025",
     "status": "completed"
    },
    "tags": []
   },
   "source": [
    "# EDA "
   ]
  },
  {
   "cell_type": "code",
   "execution_count": 2,
   "id": "e46012d5",
   "metadata": {
    "execution": {
     "iopub.execute_input": "2025-01-06T13:15:12.461004Z",
     "iopub.status.busy": "2025-01-06T13:15:12.460524Z",
     "iopub.status.idle": "2025-01-06T13:15:12.514727Z",
     "shell.execute_reply": "2025-01-06T13:15:12.513625Z"
    },
    "papermill": {
     "duration": 0.061769,
     "end_time": "2025-01-06T13:15:12.516792",
     "exception": false,
     "start_time": "2025-01-06T13:15:12.455023",
     "status": "completed"
    },
    "tags": []
   },
   "outputs": [
    {
     "data": {
      "text/html": [
       "<div>\n",
       "<style scoped>\n",
       "    .dataframe tbody tr th:only-of-type {\n",
       "        vertical-align: middle;\n",
       "    }\n",
       "\n",
       "    .dataframe tbody tr th {\n",
       "        vertical-align: top;\n",
       "    }\n",
       "\n",
       "    .dataframe thead th {\n",
       "        text-align: right;\n",
       "    }\n",
       "</style>\n",
       "<table border=\"1\" class=\"dataframe\">\n",
       "  <thead>\n",
       "    <tr style=\"text-align: right;\">\n",
       "      <th></th>\n",
       "      <th>Date</th>\n",
       "      <th>Open</th>\n",
       "      <th>High</th>\n",
       "      <th>Low</th>\n",
       "      <th>Close</th>\n",
       "      <th>Volume</th>\n",
       "      <th>Dividends</th>\n",
       "      <th>Stock Splits</th>\n",
       "    </tr>\n",
       "  </thead>\n",
       "  <tbody>\n",
       "    <tr>\n",
       "      <th>0</th>\n",
       "      <td>2002-05-23</td>\n",
       "      <td>1.156429</td>\n",
       "      <td>1.242857</td>\n",
       "      <td>1.145714</td>\n",
       "      <td>1.196429</td>\n",
       "      <td>104790000</td>\n",
       "      <td>0</td>\n",
       "      <td>0.0</td>\n",
       "    </tr>\n",
       "    <tr>\n",
       "      <th>1</th>\n",
       "      <td>2002-05-24</td>\n",
       "      <td>1.214286</td>\n",
       "      <td>1.225000</td>\n",
       "      <td>1.197143</td>\n",
       "      <td>1.210000</td>\n",
       "      <td>11104800</td>\n",
       "      <td>0</td>\n",
       "      <td>0.0</td>\n",
       "    </tr>\n",
       "    <tr>\n",
       "      <th>2</th>\n",
       "      <td>2002-05-28</td>\n",
       "      <td>1.213571</td>\n",
       "      <td>1.232143</td>\n",
       "      <td>1.157143</td>\n",
       "      <td>1.157143</td>\n",
       "      <td>6609400</td>\n",
       "      <td>0</td>\n",
       "      <td>0.0</td>\n",
       "    </tr>\n",
       "    <tr>\n",
       "      <th>3</th>\n",
       "      <td>2002-05-29</td>\n",
       "      <td>1.164286</td>\n",
       "      <td>1.164286</td>\n",
       "      <td>1.085714</td>\n",
       "      <td>1.103571</td>\n",
       "      <td>6757800</td>\n",
       "      <td>0</td>\n",
       "      <td>0.0</td>\n",
       "    </tr>\n",
       "    <tr>\n",
       "      <th>4</th>\n",
       "      <td>2002-05-30</td>\n",
       "      <td>1.107857</td>\n",
       "      <td>1.107857</td>\n",
       "      <td>1.071429</td>\n",
       "      <td>1.071429</td>\n",
       "      <td>10154200</td>\n",
       "      <td>0</td>\n",
       "      <td>0.0</td>\n",
       "    </tr>\n",
       "  </tbody>\n",
       "</table>\n",
       "</div>"
      ],
      "text/plain": [
       "         Date      Open      High       Low     Close     Volume  Dividends  \\\n",
       "0  2002-05-23  1.156429  1.242857  1.145714  1.196429  104790000          0   \n",
       "1  2002-05-24  1.214286  1.225000  1.197143  1.210000   11104800          0   \n",
       "2  2002-05-28  1.213571  1.232143  1.157143  1.157143    6609400          0   \n",
       "3  2002-05-29  1.164286  1.164286  1.085714  1.103571    6757800          0   \n",
       "4  2002-05-30  1.107857  1.107857  1.071429  1.071429   10154200          0   \n",
       "\n",
       "   Stock Splits  \n",
       "0           0.0  \n",
       "1           0.0  \n",
       "2           0.0  \n",
       "3           0.0  \n",
       "4           0.0  "
      ]
     },
     "execution_count": 2,
     "metadata": {},
     "output_type": "execute_result"
    }
   ],
   "source": [
    "data=pd.read_csv(\"/kaggle/input/netflix-stock-data-live-and-latest/Netflix_stock_history.csv\")\n",
    "data.head(5)"
   ]
  },
  {
   "cell_type": "code",
   "execution_count": 3,
   "id": "b35d4b20",
   "metadata": {
    "execution": {
     "iopub.execute_input": "2025-01-06T13:15:12.528742Z",
     "iopub.status.busy": "2025-01-06T13:15:12.528368Z",
     "iopub.status.idle": "2025-01-06T13:15:12.554349Z",
     "shell.execute_reply": "2025-01-06T13:15:12.552985Z"
    },
    "papermill": {
     "duration": 0.033738,
     "end_time": "2025-01-06T13:15:12.556165",
     "exception": false,
     "start_time": "2025-01-06T13:15:12.522427",
     "status": "completed"
    },
    "tags": []
   },
   "outputs": [
    {
     "name": "stdout",
     "output_type": "stream",
     "text": [
      "<class 'pandas.core.frame.DataFrame'>\n",
      "RangeIndex: 4870 entries, 0 to 4869\n",
      "Data columns (total 8 columns):\n",
      " #   Column        Non-Null Count  Dtype  \n",
      "---  ------        --------------  -----  \n",
      " 0   Date          4870 non-null   object \n",
      " 1   Open          4870 non-null   float64\n",
      " 2   High          4870 non-null   float64\n",
      " 3   Low           4870 non-null   float64\n",
      " 4   Close         4870 non-null   float64\n",
      " 5   Volume        4870 non-null   int64  \n",
      " 6   Dividends     4870 non-null   int64  \n",
      " 7   Stock Splits  4870 non-null   float64\n",
      "dtypes: float64(5), int64(2), object(1)\n",
      "memory usage: 304.5+ KB\n"
     ]
    }
   ],
   "source": [
    "data.info()"
   ]
  },
  {
   "cell_type": "code",
   "execution_count": 4,
   "id": "fdebe066",
   "metadata": {
    "execution": {
     "iopub.execute_input": "2025-01-06T13:15:12.568294Z",
     "iopub.status.busy": "2025-01-06T13:15:12.567947Z",
     "iopub.status.idle": "2025-01-06T13:15:12.578541Z",
     "shell.execute_reply": "2025-01-06T13:15:12.577540Z"
    },
    "papermill": {
     "duration": 0.018405,
     "end_time": "2025-01-06T13:15:12.580268",
     "exception": false,
     "start_time": "2025-01-06T13:15:12.561863",
     "status": "completed"
    },
    "tags": []
   },
   "outputs": [],
   "source": [
    "data[\"Date\"]=pd.to_datetime(data[\"Date\"])\n",
    "data.set_index(\"Date\",inplace=True)"
   ]
  },
  {
   "cell_type": "code",
   "execution_count": 5,
   "id": "3ed6a4bc",
   "metadata": {
    "execution": {
     "iopub.execute_input": "2025-01-06T13:15:12.592063Z",
     "iopub.status.busy": "2025-01-06T13:15:12.591708Z",
     "iopub.status.idle": "2025-01-06T13:15:12.943434Z",
     "shell.execute_reply": "2025-01-06T13:15:12.942113Z"
    },
    "papermill": {
     "duration": 0.359775,
     "end_time": "2025-01-06T13:15:12.945400",
     "exception": false,
     "start_time": "2025-01-06T13:15:12.585625",
     "status": "completed"
    },
    "tags": []
   },
   "outputs": [
    {
     "name": "stderr",
     "output_type": "stream",
     "text": [
      "/usr/local/lib/python3.10/dist-packages/seaborn/_oldcore.py:1119: FutureWarning: use_inf_as_na option is deprecated and will be removed in a future version. Convert inf values to NaN before operating instead.\n",
      "  with pd.option_context('mode.use_inf_as_na', True):\n",
      "/usr/local/lib/python3.10/dist-packages/seaborn/_oldcore.py:1119: FutureWarning: use_inf_as_na option is deprecated and will be removed in a future version. Convert inf values to NaN before operating instead.\n",
      "  with pd.option_context('mode.use_inf_as_na', True):\n"
     ]
    },
    {
     "data": {
      "text/plain": [
       "<Axes: xlabel='Date', ylabel='Close'>"
      ]
     },
     "execution_count": 5,
     "metadata": {},
     "output_type": "execute_result"
    },
    {
     "data": {
      "image/png": "[encoded data removed]",
      "text/plain": [
       "<Figure size 1200x500 with 1 Axes>"
      ]
     },
     "metadata": {},
     "output_type": "display_data"
    }
   ],
   "source": [
    "plt.figure(figsize=(12,5))\n",
    "sns.lineplot(x=\"Date\",y=\"Close\",data=data)"
   ]
  },
  {
   "cell_type": "markdown",
   "id": "ac5180b4",
   "metadata": {
    "papermill": {
     "duration": 0.005727,
     "end_time": "2025-01-06T13:15:12.957562",
     "exception": false,
     "start_time": "2025-01-06T13:15:12.951835",
     "status": "completed"
    },
    "tags": []
   },
   "source": [
    "# Data Preprocessing"
   ]
  },
  {
   "cell_type": "code",
   "execution_count": 6,
   "id": "7d622aa3",
   "metadata": {
    "execution": {
     "iopub.execute_input": "2025-01-06T13:15:12.971899Z",
     "iopub.status.busy": "2025-01-06T13:15:12.971492Z",
     "iopub.status.idle": "2025-01-06T13:15:12.977022Z",
     "shell.execute_reply": "2025-01-06T13:15:12.975743Z"
    },
    "papermill": {
     "duration": 0.014627,
     "end_time": "2025-01-06T13:15:12.978777",
     "exception": false,
     "start_time": "2025-01-06T13:15:12.964150",
     "status": "completed"
    },
    "tags": []
   },
   "outputs": [],
   "source": [
    "df=data[[\"Close\"]].values"
   ]
  },
  {
   "cell_type": "code",
   "execution_count": 7,
   "id": "47dfe41d",
   "metadata": {
    "execution": {
     "iopub.execute_input": "2025-01-06T13:15:12.992277Z",
     "iopub.status.busy": "2025-01-06T13:15:12.991888Z",
     "iopub.status.idle": "2025-01-06T13:15:23.098290Z",
     "shell.execute_reply": "2025-01-06T13:15:23.097076Z"
    },
    "papermill": {
     "duration": 10.115939,
     "end_time": "2025-01-06T13:15:23.100885",
     "exception": false,
     "start_time": "2025-01-06T13:15:12.984946",
     "status": "completed"
    },
    "tags": []
   },
   "outputs": [],
   "source": [
    "import tensorflow as tf\n",
    "from tensorflow.keras.models import Sequential\n",
    "from tensorflow.keras.layers import LSTM, Dense, Dropout\n",
    "from sklearn.preprocessing import MinMaxScaler"
   ]
  },
  {
   "cell_type": "code",
   "execution_count": 8,
   "id": "36875691",
   "metadata": {
    "execution": {
     "iopub.execute_input": "2025-01-06T13:15:23.115889Z",
     "iopub.status.busy": "2025-01-06T13:15:23.115221Z",
     "iopub.status.idle": "2025-01-06T13:15:23.121196Z",
     "shell.execute_reply": "2025-01-06T13:15:23.120037Z"
    },
    "papermill": {
     "duration": 0.01495,
     "end_time": "2025-01-06T13:15:23.123079",
     "exception": false,
     "start_time": "2025-01-06T13:15:23.108129",
     "status": "completed"
    },
    "tags": []
   },
   "outputs": [],
   "source": [
    "scaler=MinMaxScaler(feature_range=(0,1))\n",
    "scaler_data=scaler.fit_transform(df)"
   ]
  },
  {
   "cell_type": "code",
   "execution_count": 9,
   "id": "c29fc4fd",
   "metadata": {
    "execution": {
     "iopub.execute_input": "2025-01-06T13:15:23.136552Z",
     "iopub.status.busy": "2025-01-06T13:15:23.136188Z",
     "iopub.status.idle": "2025-01-06T13:15:23.141117Z",
     "shell.execute_reply": "2025-01-06T13:15:23.140123Z"
    },
    "papermill": {
     "duration": 0.013541,
     "end_time": "2025-01-06T13:15:23.142806",
     "exception": false,
     "start_time": "2025-01-06T13:15:23.129265",
     "status": "completed"
    },
    "tags": []
   },
   "outputs": [],
   "source": [
    "def create_sequence(df,sequence_length):\n",
    "    X=[]\n",
    "    y=[]\n",
    "    for i in range(sequence_length,len(df)):\n",
    "        X.append(df[i-sequence_length:i,0])\n",
    "        y.append(df[i,0])\n",
    "    return np.array(X),np.array(y)"
   ]
  },
  {
   "cell_type": "code",
   "execution_count": 10,
   "id": "5ddd42dd",
   "metadata": {
    "execution": {
     "iopub.execute_input": "2025-01-06T13:15:23.156869Z",
     "iopub.status.busy": "2025-01-06T13:15:23.156476Z",
     "iopub.status.idle": "2025-01-06T13:15:23.160888Z",
     "shell.execute_reply": "2025-01-06T13:15:23.159700Z"
    },
    "papermill": {
     "duration": 0.013431,
     "end_time": "2025-01-06T13:15:23.162781",
     "exception": false,
     "start_time": "2025-01-06T13:15:23.149350",
     "status": "completed"
    },
    "tags": []
   },
   "outputs": [],
   "source": [
    "sequence_length=10"
   ]
  },
  {
   "cell_type": "code",
   "execution_count": 11,
   "id": "a3aaa3db",
   "metadata": {
    "execution": {
     "iopub.execute_input": "2025-01-06T13:15:23.176796Z",
     "iopub.status.busy": "2025-01-06T13:15:23.176411Z",
     "iopub.status.idle": "2025-01-06T13:15:23.187889Z",
     "shell.execute_reply": "2025-01-06T13:15:23.186611Z"
    },
    "papermill": {
     "duration": 0.020562,
     "end_time": "2025-01-06T13:15:23.189787",
     "exception": false,
     "start_time": "2025-01-06T13:15:23.169225",
     "status": "completed"
    },
    "tags": []
   },
   "outputs": [],
   "source": [
    "X,y=create_sequence(scaler_data,sequence_length)"
   ]
  },
  {
   "cell_type": "code",
   "execution_count": 12,
   "id": "b7df7a45",
   "metadata": {
    "execution": {
     "iopub.execute_input": "2025-01-06T13:15:23.203899Z",
     "iopub.status.busy": "2025-01-06T13:15:23.203463Z",
     "iopub.status.idle": "2025-01-06T13:15:23.209202Z",
     "shell.execute_reply": "2025-01-06T13:15:23.207828Z"
    },
    "papermill": {
     "duration": 0.014824,
     "end_time": "2025-01-06T13:15:23.211096",
     "exception": false,
     "start_time": "2025-01-06T13:15:23.196272",
     "status": "completed"
    },
    "tags": []
   },
   "outputs": [
    {
     "name": "stdout",
     "output_type": "stream",
     "text": [
      "(4860, 1, 10) (4860,)\n"
     ]
    }
   ],
   "source": [
    "X = X.reshape((X.shape[0], 1, X.shape[1]))\n",
    "print(X.shape,y.shape)"
   ]
  },
  {
   "cell_type": "markdown",
   "id": "5f927be0",
   "metadata": {
    "papermill": {
     "duration": 0.006407,
     "end_time": "2025-01-06T13:15:23.224038",
     "exception": false,
     "start_time": "2025-01-06T13:15:23.217631",
     "status": "completed"
    },
    "tags": []
   },
   "source": [
    "# Model"
   ]
  },
  {
   "cell_type": "code",
   "execution_count": 13,
   "id": "b3669120",
   "metadata": {
    "execution": {
     "iopub.execute_input": "2025-01-06T13:15:23.238800Z",
     "iopub.status.busy": "2025-01-06T13:15:23.238379Z",
     "iopub.status.idle": "2025-01-06T13:15:23.246222Z",
     "shell.execute_reply": "2025-01-06T13:15:23.244874Z"
    },
    "papermill": {
     "duration": 0.017416,
     "end_time": "2025-01-06T13:15:23.248481",
     "exception": false,
     "start_time": "2025-01-06T13:15:23.231065",
     "status": "completed"
    },
    "tags": []
   },
   "outputs": [],
   "source": [
    "model=Sequential()"
   ]
  },
  {
   "cell_type": "code",
   "execution_count": 14,
   "id": "9323c6ca",
   "metadata": {
    "execution": {
     "iopub.execute_input": "2025-01-06T13:15:23.263090Z",
     "iopub.status.busy": "2025-01-06T13:15:23.262635Z",
     "iopub.status.idle": "2025-01-06T13:15:23.368977Z",
     "shell.execute_reply": "2025-01-06T13:15:23.367859Z"
    },
    "papermill": {
     "duration": 0.115753,
     "end_time": "2025-01-06T13:15:23.370964",
     "exception": false,
     "start_time": "2025-01-06T13:15:23.255211",
     "status": "completed"
    },
    "tags": []
   },
   "outputs": [
    {
     "name": "stderr",
     "output_type": "stream",
     "text": [
      "/usr/local/lib/python3.10/dist-packages/keras/src/layers/rnn/rnn.py:204: UserWarning: Do not pass an `input_shape`/`input_dim` argument to a layer. When using Sequential models, prefer using an `Input(shape)` object as the first layer in the model instead.\n",
      "  super().__init__(**kwargs)\n"
     ]
    }
   ],
   "source": [
    "model.add(LSTM(50,activation=\"relu\",input_shape=(X.shape[1],X.shape[2])))"
   ]
  },
  {
   "cell_type": "code",
   "execution_count": 15,
   "id": "3f3fe0c4",
   "metadata": {
    "execution": {
     "iopub.execute_input": "2025-01-06T13:15:23.385794Z",
     "iopub.status.busy": "2025-01-06T13:15:23.385446Z",
     "iopub.status.idle": "2025-01-06T13:15:23.407128Z",
     "shell.execute_reply": "2025-01-06T13:15:23.406118Z"
    },
    "papermill": {
     "duration": 0.03102,
     "end_time": "2025-01-06T13:15:23.409048",
     "exception": false,
     "start_time": "2025-01-06T13:15:23.378028",
     "status": "completed"
    },
    "tags": []
   },
   "outputs": [],
   "source": [
    "model.add(Dropout(0.2))\n",
    "model.add(Dense(1))"
   ]
  },
  {
   "cell_type": "code",
   "execution_count": 16,
   "id": "0f972d14",
   "metadata": {
    "execution": {
     "iopub.execute_input": "2025-01-06T13:15:23.423467Z",
     "iopub.status.busy": "2025-01-06T13:15:23.423079Z",
     "iopub.status.idle": "2025-01-06T13:15:23.437459Z",
     "shell.execute_reply": "2025-01-06T13:15:23.436135Z"
    },
    "papermill": {
     "duration": 0.024006,
     "end_time": "2025-01-06T13:15:23.439750",
     "exception": false,
     "start_time": "2025-01-06T13:15:23.415744",
     "status": "completed"
    },
    "tags": []
   },
   "outputs": [],
   "source": [
    "model.compile(optimizer=\"adam\",loss=\"mean_squared_error\")"
   ]
  },
  {
   "cell_type": "code",
   "execution_count": 17,
   "id": "a66a1f17",
   "metadata": {
    "execution": {
     "iopub.execute_input": "2025-01-06T13:15:23.454686Z",
     "iopub.status.busy": "2025-01-06T13:15:23.454271Z",
     "iopub.status.idle": "2025-01-06T13:15:23.472600Z",
     "shell.execute_reply": "2025-01-06T13:15:23.471422Z"
    },
    "papermill": {
     "duration": 0.027671,
     "end_time": "2025-01-06T13:15:23.474360",
     "exception": false,
     "start_time": "2025-01-06T13:15:23.446689",
     "status": "completed"
    },
    "tags": []
   },
   "outputs": [
    {
     "data": {
      "text/html": [
       "<pre style=\"white-space:pre;overflow-x:auto;line-height:normal;font-family:Menlo,'DejaVu Sans Mono',consolas,'Courier New',monospace\"><span style=\"font-weight: bold\">Model: \"sequential\"</span>\n",
       "</pre>\n"
      ],
      "text/plain": [
       "\u001b[1mModel: \"sequential\"\u001b[0m\n"
      ]
     },
     "metadata": {},
     "output_type": "display_data"
    },
    {
     "data": {
      "text/html": [
       "<pre style=\"white-space:pre;overflow-x:auto;line-height:normal;font-family:Menlo,'DejaVu Sans Mono',consolas,'Courier New',monospace\">┏━━━━━━━━━━━━━━━━━━━━━━━━━━━━━━━━━━━━━━┳━━━━━━━━━━━━━━━━━━━━━━━━━━━━━┳━━━━━━━━━━━━━━━━━┓\n",
       "┃<span style=\"font-weight: bold\"> Layer (type)                         </span>┃<span style=\"font-weight: bold\"> Output Shape                </span>┃<span style=\"font-weight: bold\">         Param # </span>┃\n",
       "┡━━━━━━━━━━━━━━━━━━━━━━━━━━━━━━━━━━━━━━╇━━━━━━━━━━━━━━━━━━━━━━━━━━━━━╇━━━━━━━━━━━━━━━━━┩\n",
       "│ lstm (<span style=\"color: #0087ff; text-decoration-color: #0087ff\">LSTM</span>)                          │ (<span style=\"color: #00d7ff; text-decoration-color: #00d7ff\">None</span>, <span style=\"color: #00af00; text-decoration-color: #00af00\">50</span>)                  │          <span style=\"color: #00af00; text-decoration-color: #00af00\">12,200</span> │\n",
       "├──────────────────────────────────────┼─────────────────────────────┼─────────────────┤\n",
       "│ dropout (<span style=\"color: #0087ff; text-decoration-color: #0087ff\">Dropout</span>)                    │ (<span style=\"color: #00d7ff; text-decoration-color: #00d7ff\">None</span>, <span style=\"color: #00af00; text-decoration-color: #00af00\">50</span>)                  │               <span style=\"color: #00af00; text-decoration-color: #00af00\">0</span> │\n",
       "├──────────────────────────────────────┼─────────────────────────────┼─────────────────┤\n",
       "│ dense (<span style=\"color: #0087ff; text-decoration-color: #0087ff\">Dense</span>)                        │ (<span style=\"color: #00d7ff; text-decoration-color: #00d7ff\">None</span>, <span style=\"color: #00af00; text-decoration-color: #00af00\">1</span>)                   │              <span style=\"color: #00af00; text-decoration-color: #00af00\">51</span> │\n",
       "└──────────────────────────────────────┴─────────────────────────────┴─────────────────┘\n",
       "</pre>\n"
      ],
      "text/plain": [
       "┏━━━━━━━━━━━━━━━━━━━━━━━━━━━━━━━━━━━━━━┳━━━━━━━━━━━━━━━━━━━━━━━━━━━━━┳━━━━━━━━━━━━━━━━━┓\n",
       "┃\u001b[1m \u001b[0m\u001b[1mLayer (type)                        \u001b[0m\u001b[1m \u001b[0m┃\u001b[1m \u001b[0m\u001b[1mOutput Shape               \u001b[0m\u001b[1m \u001b[0m┃\u001b[1m \u001b[0m\u001b[1m        Param #\u001b[0m\u001b[1m \u001b[0m┃\n",
       "┡━━━━━━━━━━━━━━━━━━━━━━━━━━━━━━━━━━━━━━╇━━━━━━━━━━━━━━━━━━━━━━━━━━━━━╇━━━━━━━━━━━━━━━━━┩\n",
       "│ lstm (\u001b[38;5;33mLSTM\u001b[0m)                          │ (\u001b[38;5;45mNone\u001b[0m, \u001b[38;5;34m50\u001b[0m)                  │          \u001b[38;5;34m12,200\u001b[0m │\n",
       "├──────────────────────────────────────┼─────────────────────────────┼─────────────────┤\n",
       "│ dropout (\u001b[38;5;33mDropout\u001b[0m)                    │ (\u001b[38;5;45mNone\u001b[0m, \u001b[38;5;34m50\u001b[0m)                  │               \u001b[38;5;34m0\u001b[0m │\n",
       "├──────────────────────────────────────┼─────────────────────────────┼─────────────────┤\n",
       "│ dense (\u001b[38;5;33mDense\u001b[0m)                        │ (\u001b[38;5;45mNone\u001b[0m, \u001b[38;5;34m1\u001b[0m)                   │              \u001b[38;5;34m51\u001b[0m │\n",
       "└──────────────────────────────────────┴─────────────────────────────┴─────────────────┘\n"
      ]
     },
     "metadata": {},
     "output_type": "display_data"
    },
    {
     "data": {
      "text/html": [
       "<pre style=\"white-space:pre;overflow-x:auto;line-height:normal;font-family:Menlo,'DejaVu Sans Mono',consolas,'Courier New',monospace\"><span style=\"font-weight: bold\"> Total params: </span><span style=\"color: #00af00; text-decoration-color: #00af00\">12,251</span> (47.86 KB)\n",
       "</pre>\n"
      ],
      "text/plain": [
       "\u001b[1m Total params: \u001b[0m\u001b[38;5;34m12,251\u001b[0m (47.86 KB)\n"
      ]
     },
     "metadata": {},
     "output_type": "display_data"
    },
    {
     "data": {
      "text/html": [
       "<pre style=\"white-space:pre;overflow-x:auto;line-height:normal;font-family:Menlo,'DejaVu Sans Mono',consolas,'Courier New',monospace\"><span style=\"font-weight: bold\"> Trainable params: </span><span style=\"color: #00af00; text-decoration-color: #00af00\">12,251</span> (47.86 KB)\n",
       "</pre>\n"
      ],
      "text/plain": [
       "\u001b[1m Trainable params: \u001b[0m\u001b[38;5;34m12,251\u001b[0m (47.86 KB)\n"
      ]
     },
     "metadata": {},
     "output_type": "display_data"
    },
    {
     "data": {
      "text/html": [
       "<pre style=\"white-space:pre;overflow-x:auto;line-height:normal;font-family:Menlo,'DejaVu Sans Mono',consolas,'Courier New',monospace\"><span style=\"font-weight: bold\"> Non-trainable params: </span><span style=\"color: #00af00; text-decoration-color: #00af00\">0</span> (0.00 B)\n",
       "</pre>\n"
      ],
      "text/plain": [
       "\u001b[1m Non-trainable params: \u001b[0m\u001b[38;5;34m0\u001b[0m (0.00 B)\n"
      ]
     },
     "metadata": {},
     "output_type": "display_data"
    }
   ],
   "source": [
    "model.summary()"
   ]
  },
  {
   "cell_type": "code",
   "execution_count": 18,
   "id": "057f8a74",
   "metadata": {
    "execution": {
     "iopub.execute_input": "2025-01-06T13:15:23.490536Z",
     "iopub.status.busy": "2025-01-06T13:15:23.490137Z",
     "iopub.status.idle": "2025-01-06T13:15:59.178997Z",
     "shell.execute_reply": "2025-01-06T13:15:59.177594Z"
    },
    "papermill": {
     "duration": 35.699465,
     "end_time": "2025-01-06T13:15:59.181277",
     "exception": false,
     "start_time": "2025-01-06T13:15:23.481812",
     "status": "completed"
    },
    "tags": []
   },
   "outputs": [
    {
     "name": "stdout",
     "output_type": "stream",
     "text": [
      "Epoch 1/100\n",
      "\u001b[1m152/152\u001b[0m \u001b[32m━━━━━━━━━━━━━━━━━━━━\u001b[0m\u001b[37m\u001b[0m \u001b[1m2s\u001b[0m 2ms/step - loss: 0.0291\n",
      "Epoch 2/100\n",
      "\u001b[1m152/152\u001b[0m \u001b[32m━━━━━━━━━━━━━━━━━━━━\u001b[0m\u001b[37m\u001b[0m \u001b[1m0s\u001b[0m 2ms/step - loss: 0.0020\n",
      "Epoch 3/100\n",
      "\u001b[1m152/152\u001b[0m \u001b[32m━━━━━━━━━━━━━━━━━━━━\u001b[0m\u001b[37m\u001b[0m \u001b[1m0s\u001b[0m 2ms/step - loss: 0.0016\n",
      "Epoch 4/100\n",
      "\u001b[1m152/152\u001b[0m \u001b[32m━━━━━━━━━━━━━━━━━━━━\u001b[0m\u001b[37m\u001b[0m \u001b[1m0s\u001b[0m 2ms/step - loss: 0.0015\n",
      "Epoch 5/100\n",
      "\u001b[1m152/152\u001b[0m \u001b[32m━━━━━━━━━━━━━━━━━━━━\u001b[0m\u001b[37m\u001b[0m \u001b[1m0s\u001b[0m 2ms/step - loss: 0.0016\n",
      "Epoch 6/100\n",
      "\u001b[1m152/152\u001b[0m \u001b[32m━━━━━━━━━━━━━━━━━━━━\u001b[0m\u001b[37m\u001b[0m \u001b[1m0s\u001b[0m 2ms/step - loss: 0.0014\n",
      "Epoch 7/100\n",
      "\u001b[1m152/152\u001b[0m \u001b[32m━━━━━━━━━━━━━━━━━━━━\u001b[0m\u001b[37m\u001b[0m \u001b[1m0s\u001b[0m 2ms/step - loss: 0.0015\n",
      "Epoch 8/100\n",
      "\u001b[1m152/152\u001b[0m \u001b[32m━━━━━━━━━━━━━━━━━━━━\u001b[0m\u001b[37m\u001b[0m \u001b[1m0s\u001b[0m 2ms/step - loss: 0.0014\n",
      "Epoch 9/100\n",
      "\u001b[1m152/152\u001b[0m \u001b[32m━━━━━━━━━━━━━━━━━━━━\u001b[0m\u001b[37m\u001b[0m \u001b[1m0s\u001b[0m 2ms/step - loss: 0.0015\n",
      "Epoch 10/100\n",
      "\u001b[1m152/152\u001b[0m \u001b[32m━━━━━━━━━━━━━━━━━━━━\u001b[0m\u001b[37m\u001b[0m \u001b[1m0s\u001b[0m 2ms/step - loss: 0.0015\n",
      "Epoch 11/100\n",
      "\u001b[1m152/152\u001b[0m \u001b[32m━━━━━━━━━━━━━━━━━━━━\u001b[0m\u001b[37m\u001b[0m \u001b[1m0s\u001b[0m 2ms/step - loss: 0.0014\n",
      "Epoch 12/100\n",
      "\u001b[1m152/152\u001b[0m \u001b[32m━━━━━━━━━━━━━━━━━━━━\u001b[0m\u001b[37m\u001b[0m \u001b[1m0s\u001b[0m 2ms/step - loss: 0.0013\n",
      "Epoch 13/100\n",
      "\u001b[1m152/152\u001b[0m \u001b[32m━━━━━━━━━━━━━━━━━━━━\u001b[0m\u001b[37m\u001b[0m \u001b[1m0s\u001b[0m 2ms/step - loss: 0.0012\n",
      "Epoch 14/100\n",
      "\u001b[1m152/152\u001b[0m \u001b[32m━━━━━━━━━━━━━━━━━━━━\u001b[0m\u001b[37m\u001b[0m \u001b[1m0s\u001b[0m 2ms/step - loss: 0.0015\n",
      "Epoch 15/100\n",
      "\u001b[1m152/152\u001b[0m \u001b[32m━━━━━━━━━━━━━━━━━━━━\u001b[0m\u001b[37m\u001b[0m \u001b[1m0s\u001b[0m 2ms/step - loss: 0.0014\n",
      "Epoch 16/100\n",
      "\u001b[1m152/152\u001b[0m \u001b[32m━━━━━━━━━━━━━━━━━━━━\u001b[0m\u001b[37m\u001b[0m \u001b[1m0s\u001b[0m 2ms/step - loss: 0.0013\n",
      "Epoch 17/100\n",
      "\u001b[1m152/152\u001b[0m \u001b[32m━━━━━━━━━━━━━━━━━━━━\u001b[0m\u001b[37m\u001b[0m \u001b[1m0s\u001b[0m 2ms/step - loss: 0.0013\n",
      "Epoch 18/100\n",
      "\u001b[1m152/152\u001b[0m \u001b[32m━━━━━━━━━━━━━━━━━━━━\u001b[0m\u001b[37m\u001b[0m \u001b[1m0s\u001b[0m 2ms/step - loss: 0.0015\n",
      "Epoch 19/100\n",
      "\u001b[1m152/152\u001b[0m \u001b[32m━━━━━━━━━━━━━━━━━━━━\u001b[0m\u001b[37m\u001b[0m \u001b[1m0s\u001b[0m 2ms/step - loss: 0.0013\n",
      "Epoch 20/100\n",
      "\u001b[1m152/152\u001b[0m \u001b[32m━━━━━━━━━━━━━━━━━━━━\u001b[0m\u001b[37m\u001b[0m \u001b[1m0s\u001b[0m 2ms/step - loss: 0.0014\n",
      "Epoch 21/100\n",
      "\u001b[1m152/152\u001b[0m \u001b[32m━━━━━━━━━━━━━━━━━━━━\u001b[0m\u001b[37m\u001b[0m \u001b[1m0s\u001b[0m 2ms/step - loss: 0.0012\n",
      "Epoch 22/100\n",
      "\u001b[1m152/152\u001b[0m \u001b[32m━━━━━━━━━━━━━━━━━━━━\u001b[0m\u001b[37m\u001b[0m \u001b[1m0s\u001b[0m 2ms/step - loss: 0.0013\n",
      "Epoch 23/100\n",
      "\u001b[1m152/152\u001b[0m \u001b[32m━━━━━━━━━━━━━━━━━━━━\u001b[0m\u001b[37m\u001b[0m \u001b[1m0s\u001b[0m 2ms/step - loss: 0.0014\n",
      "Epoch 24/100\n",
      "\u001b[1m152/152\u001b[0m \u001b[32m━━━━━━━━━━━━━━━━━━━━\u001b[0m\u001b[37m\u001b[0m \u001b[1m0s\u001b[0m 2ms/step - loss: 0.0013\n",
      "Epoch 25/100\n",
      "\u001b[1m152/152\u001b[0m \u001b[32m━━━━━━━━━━━━━━━━━━━━\u001b[0m\u001b[37m\u001b[0m \u001b[1m0s\u001b[0m 2ms/step - loss: 0.0014\n",
      "Epoch 26/100\n",
      "\u001b[1m152/152\u001b[0m \u001b[32m━━━━━━━━━━━━━━━━━━━━\u001b[0m\u001b[37m\u001b[0m \u001b[1m0s\u001b[0m 2ms/step - loss: 0.0012\n",
      "Epoch 27/100\n",
      "\u001b[1m152/152\u001b[0m \u001b[32m━━━━━━━━━━━━━━━━━━━━\u001b[0m\u001b[37m\u001b[0m \u001b[1m0s\u001b[0m 2ms/step - loss: 0.0014\n",
      "Epoch 28/100\n",
      "\u001b[1m152/152\u001b[0m \u001b[32m━━━━━━━━━━━━━━━━━━━━\u001b[0m\u001b[37m\u001b[0m \u001b[1m0s\u001b[0m 2ms/step - loss: 0.0012\n",
      "Epoch 29/100\n",
      "\u001b[1m152/152\u001b[0m \u001b[32m━━━━━━━━━━━━━━━━━━━━\u001b[0m\u001b[37m\u001b[0m \u001b[1m0s\u001b[0m 2ms/step - loss: 0.0014\n",
      "Epoch 30/100\n",
      "\u001b[1m152/152\u001b[0m \u001b[32m━━━━━━━━━━━━━━━━━━━━\u001b[0m\u001b[37m\u001b[0m \u001b[1m0s\u001b[0m 2ms/step - loss: 0.0013\n",
      "Epoch 31/100\n",
      "\u001b[1m152/152\u001b[0m \u001b[32m━━━━━━━━━━━━━━━━━━━━\u001b[0m\u001b[37m\u001b[0m \u001b[1m0s\u001b[0m 2ms/step - loss: 0.0012\n",
      "Epoch 32/100\n",
      "\u001b[1m152/152\u001b[0m \u001b[32m━━━━━━━━━━━━━━━━━━━━\u001b[0m\u001b[37m\u001b[0m \u001b[1m0s\u001b[0m 2ms/step - loss: 0.0014\n",
      "Epoch 33/100\n",
      "\u001b[1m152/152\u001b[0m \u001b[32m━━━━━━━━━━━━━━━━━━━━\u001b[0m\u001b[37m\u001b[0m \u001b[1m0s\u001b[0m 2ms/step - loss: 0.0013\n",
      "Epoch 34/100\n",
      "\u001b[1m152/152\u001b[0m \u001b[32m━━━━━━━━━━━━━━━━━━━━\u001b[0m\u001b[37m\u001b[0m \u001b[1m0s\u001b[0m 2ms/step - loss: 0.0012\n",
      "Epoch 35/100\n",
      "\u001b[1m152/152\u001b[0m \u001b[32m━━━━━━━━━━━━━━━━━━━━\u001b[0m\u001b[37m\u001b[0m \u001b[1m0s\u001b[0m 2ms/step - loss: 0.0013\n",
      "Epoch 36/100\n",
      "\u001b[1m152/152\u001b[0m \u001b[32m━━━━━━━━━━━━━━━━━━━━\u001b[0m\u001b[37m\u001b[0m \u001b[1m0s\u001b[0m 2ms/step - loss: 0.0013\n",
      "Epoch 37/100\n",
      "\u001b[1m152/152\u001b[0m \u001b[32m━━━━━━━━━━━━━━━━━━━━\u001b[0m\u001b[37m\u001b[0m \u001b[1m0s\u001b[0m 2ms/step - loss: 0.0013\n",
      "Epoch 38/100\n",
      "\u001b[1m152/152\u001b[0m \u001b[32m━━━━━━━━━━━━━━━━━━━━\u001b[0m\u001b[37m\u001b[0m \u001b[1m0s\u001b[0m 2ms/step - loss: 0.0012\n",
      "Epoch 39/100\n",
      "\u001b[1m152/152\u001b[0m \u001b[32m━━━━━━━━━━━━━━━━━━━━\u001b[0m\u001b[37m\u001b[0m \u001b[1m0s\u001b[0m 2ms/step - loss: 0.0014\n",
      "Epoch 40/100\n",
      "\u001b[1m152/152\u001b[0m \u001b[32m━━━━━━━━━━━━━━━━━━━━\u001b[0m\u001b[37m\u001b[0m \u001b[1m0s\u001b[0m 2ms/step - loss: 0.0012\n",
      "Epoch 41/100\n",
      "\u001b[1m152/152\u001b[0m \u001b[32m━━━━━━━━━━━━━━━━━━━━\u001b[0m\u001b[37m\u001b[0m \u001b[1m0s\u001b[0m 2ms/step - loss: 0.0012\n",
      "Epoch 42/100\n",
      "\u001b[1m152/152\u001b[0m \u001b[32m━━━━━━━━━━━━━━━━━━━━\u001b[0m\u001b[37m\u001b[0m \u001b[1m0s\u001b[0m 2ms/step - loss: 0.0011\n",
      "Epoch 43/100\n",
      "\u001b[1m152/152\u001b[0m \u001b[32m━━━━━━━━━━━━━━━━━━━━\u001b[0m\u001b[37m\u001b[0m \u001b[1m0s\u001b[0m 2ms/step - loss: 0.0014\n",
      "Epoch 44/100\n",
      "\u001b[1m152/152\u001b[0m \u001b[32m━━━━━━━━━━━━━━━━━━━━\u001b[0m\u001b[37m\u001b[0m \u001b[1m0s\u001b[0m 2ms/step - loss: 0.0012\n",
      "Epoch 45/100\n",
      "\u001b[1m152/152\u001b[0m \u001b[32m━━━━━━━━━━━━━━━━━━━━\u001b[0m\u001b[37m\u001b[0m \u001b[1m0s\u001b[0m 2ms/step - loss: 0.0013\n",
      "Epoch 46/100\n",
      "\u001b[1m152/152\u001b[0m \u001b[32m━━━━━━━━━━━━━━━━━━━━\u001b[0m\u001b[37m\u001b[0m \u001b[1m0s\u001b[0m 2ms/step - loss: 0.0013\n",
      "Epoch 47/100\n",
      "\u001b[1m152/152\u001b[0m \u001b[32m━━━━━━━━━━━━━━━━━━━━\u001b[0m\u001b[37m\u001b[0m \u001b[1m0s\u001b[0m 2ms/step - loss: 0.0011\n",
      "Epoch 48/100\n",
      "\u001b[1m152/152\u001b[0m \u001b[32m━━━━━━━━━━━━━━━━━━━━\u001b[0m\u001b[37m\u001b[0m \u001b[1m0s\u001b[0m 2ms/step - loss: 0.0013\n",
      "Epoch 49/100\n",
      "\u001b[1m152/152\u001b[0m \u001b[32m━━━━━━━━━━━━━━━━━━━━\u001b[0m\u001b[37m\u001b[0m \u001b[1m0s\u001b[0m 2ms/step - loss: 0.0012\n",
      "Epoch 50/100\n",
      "\u001b[1m152/152\u001b[0m \u001b[32m━━━━━━━━━━━━━━━━━━━━\u001b[0m\u001b[37m\u001b[0m \u001b[1m0s\u001b[0m 2ms/step - loss: 0.0012\n",
      "Epoch 51/100\n",
      "\u001b[1m152/152\u001b[0m \u001b[32m━━━━━━━━━━━━━━━━━━━━\u001b[0m\u001b[37m\u001b[0m \u001b[1m0s\u001b[0m 2ms/step - loss: 0.0011\n",
      "Epoch 52/100\n",
      "\u001b[1m152/152\u001b[0m \u001b[32m━━━━━━━━━━━━━━━━━━━━\u001b[0m\u001b[37m\u001b[0m \u001b[1m0s\u001b[0m 2ms/step - loss: 0.0012\n",
      "Epoch 53/100\n",
      "\u001b[1m152/152\u001b[0m \u001b[32m━━━━━━━━━━━━━━━━━━━━\u001b[0m\u001b[37m\u001b[0m \u001b[1m0s\u001b[0m 2ms/step - loss: 0.0013\n",
      "Epoch 54/100\n",
      "\u001b[1m152/152\u001b[0m \u001b[32m━━━━━━━━━━━━━━━━━━━━\u001b[0m\u001b[37m\u001b[0m \u001b[1m0s\u001b[0m 2ms/step - loss: 0.0013\n",
      "Epoch 55/100\n",
      "\u001b[1m152/152\u001b[0m \u001b[32m━━━━━━━━━━━━━━━━━━━━\u001b[0m\u001b[37m\u001b[0m \u001b[1m0s\u001b[0m 2ms/step - loss: 0.0013\n",
      "Epoch 56/100\n",
      "\u001b[1m152/152\u001b[0m \u001b[32m━━━━━━━━━━━━━━━━━━━━\u001b[0m\u001b[37m\u001b[0m \u001b[1m0s\u001b[0m 2ms/step - loss: 0.0012\n",
      "Epoch 57/100\n",
      "\u001b[1m152/152\u001b[0m \u001b[32m━━━━━━━━━━━━━━━━━━━━\u001b[0m\u001b[37m\u001b[0m \u001b[1m0s\u001b[0m 2ms/step - loss: 0.0011\n",
      "Epoch 58/100\n",
      "\u001b[1m152/152\u001b[0m \u001b[32m━━━━━━━━━━━━━━━━━━━━\u001b[0m\u001b[37m\u001b[0m \u001b[1m0s\u001b[0m 2ms/step - loss: 0.0013\n",
      "Epoch 59/100\n",
      "\u001b[1m152/152\u001b[0m \u001b[32m━━━━━━━━━━━━━━━━━━━━\u001b[0m\u001b[37m\u001b[0m \u001b[1m0s\u001b[0m 2ms/step - loss: 0.0013\n",
      "Epoch 60/100\n",
      "\u001b[1m152/152\u001b[0m \u001b[32m━━━━━━━━━━━━━━━━━━━━\u001b[0m\u001b[37m\u001b[0m \u001b[1m0s\u001b[0m 2ms/step - loss: 0.0013\n",
      "Epoch 61/100\n",
      "\u001b[1m152/152\u001b[0m \u001b[32m━━━━━━━━━━━━━━━━━━━━\u001b[0m\u001b[37m\u001b[0m \u001b[1m0s\u001b[0m 2ms/step - loss: 0.0013\n",
      "Epoch 62/100\n",
      "\u001b[1m152/152\u001b[0m \u001b[32m━━━━━━━━━━━━━━━━━━━━\u001b[0m\u001b[37m\u001b[0m \u001b[1m0s\u001b[0m 2ms/step - loss: 0.0012\n",
      "Epoch 63/100\n",
      "\u001b[1m152/152\u001b[0m \u001b[32m━━━━━━━━━━━━━━━━━━━━\u001b[0m\u001b[37m\u001b[0m \u001b[1m0s\u001b[0m 2ms/step - loss: 0.0013\n",
      "Epoch 64/100\n",
      "\u001b[1m152/152\u001b[0m \u001b[32m━━━━━━━━━━━━━━━━━━━━\u001b[0m\u001b[37m\u001b[0m \u001b[1m0s\u001b[0m 2ms/step - loss: 0.0013\n",
      "Epoch 65/100\n",
      "\u001b[1m152/152\u001b[0m \u001b[32m━━━━━━━━━━━━━━━━━━━━\u001b[0m\u001b[37m\u001b[0m \u001b[1m0s\u001b[0m 2ms/step - loss: 0.0013\n",
      "Epoch 66/100\n",
      "\u001b[1m152/152\u001b[0m \u001b[32m━━━━━━━━━━━━━━━━━━━━\u001b[0m\u001b[37m\u001b[0m \u001b[1m0s\u001b[0m 2ms/step - loss: 0.0012\n",
      "Epoch 67/100\n",
      "\u001b[1m152/152\u001b[0m \u001b[32m━━━━━━━━━━━━━━━━━━━━\u001b[0m\u001b[37m\u001b[0m \u001b[1m0s\u001b[0m 2ms/step - loss: 0.0013\n",
      "Epoch 68/100\n",
      "\u001b[1m152/152\u001b[0m \u001b[32m━━━━━━━━━━━━━━━━━━━━\u001b[0m\u001b[37m\u001b[0m \u001b[1m0s\u001b[0m 2ms/step - loss: 0.0012\n",
      "Epoch 69/100\n",
      "\u001b[1m152/152\u001b[0m \u001b[32m━━━━━━━━━━━━━━━━━━━━\u001b[0m\u001b[37m\u001b[0m \u001b[1m0s\u001b[0m 2ms/step - loss: 0.0013\n",
      "Epoch 70/100\n",
      "\u001b[1m152/152\u001b[0m \u001b[32m━━━━━━━━━━━━━━━━━━━━\u001b[0m\u001b[37m\u001b[0m \u001b[1m0s\u001b[0m 2ms/step - loss: 0.0013\n",
      "Epoch 71/100\n",
      "\u001b[1m152/152\u001b[0m \u001b[32m━━━━━━━━━━━━━━━━━━━━\u001b[0m\u001b[37m\u001b[0m \u001b[1m0s\u001b[0m 2ms/step - loss: 0.0013\n",
      "Epoch 72/100\n",
      "\u001b[1m152/152\u001b[0m \u001b[32m━━━━━━━━━━━━━━━━━━━━\u001b[0m\u001b[37m\u001b[0m \u001b[1m0s\u001b[0m 2ms/step - loss: 0.0011\n",
      "Epoch 73/100\n",
      "\u001b[1m152/152\u001b[0m \u001b[32m━━━━━━━━━━━━━━━━━━━━\u001b[0m\u001b[37m\u001b[0m \u001b[1m0s\u001b[0m 2ms/step - loss: 0.0015\n",
      "Epoch 74/100\n",
      "\u001b[1m152/152\u001b[0m \u001b[32m━━━━━━━━━━━━━━━━━━━━\u001b[0m\u001b[37m\u001b[0m \u001b[1m0s\u001b[0m 2ms/step - loss: 0.0012\n",
      "Epoch 75/100\n",
      "\u001b[1m152/152\u001b[0m \u001b[32m━━━━━━━━━━━━━━━━━━━━\u001b[0m\u001b[37m\u001b[0m \u001b[1m0s\u001b[0m 2ms/step - loss: 0.0013\n",
      "Epoch 76/100\n",
      "\u001b[1m152/152\u001b[0m \u001b[32m━━━━━━━━━━━━━━━━━━━━\u001b[0m\u001b[37m\u001b[0m \u001b[1m0s\u001b[0m 2ms/step - loss: 0.0013\n",
      "Epoch 77/100\n",
      "\u001b[1m152/152\u001b[0m \u001b[32m━━━━━━━━━━━━━━━━━━━━\u001b[0m\u001b[37m\u001b[0m \u001b[1m0s\u001b[0m 2ms/step - loss: 0.0011\n",
      "Epoch 78/100\n",
      "\u001b[1m152/152\u001b[0m \u001b[32m━━━━━━━━━━━━━━━━━━━━\u001b[0m\u001b[37m\u001b[0m \u001b[1m0s\u001b[0m 2ms/step - loss: 0.0012\n",
      "Epoch 79/100\n",
      "\u001b[1m152/152\u001b[0m \u001b[32m━━━━━━━━━━━━━━━━━━━━\u001b[0m\u001b[37m\u001b[0m \u001b[1m0s\u001b[0m 2ms/step - loss: 0.0012\n",
      "Epoch 80/100\n",
      "\u001b[1m152/152\u001b[0m \u001b[32m━━━━━━━━━━━━━━━━━━━━\u001b[0m\u001b[37m\u001b[0m \u001b[1m0s\u001b[0m 2ms/step - loss: 0.0012\n",
      "Epoch 81/100\n",
      "\u001b[1m152/152\u001b[0m \u001b[32m━━━━━━━━━━━━━━━━━━━━\u001b[0m\u001b[37m\u001b[0m \u001b[1m0s\u001b[0m 2ms/step - loss: 0.0013\n",
      "Epoch 82/100\n",
      "\u001b[1m152/152\u001b[0m \u001b[32m━━━━━━━━━━━━━━━━━━━━\u001b[0m\u001b[37m\u001b[0m \u001b[1m0s\u001b[0m 2ms/step - loss: 0.0012\n",
      "Epoch 83/100\n",
      "\u001b[1m152/152\u001b[0m \u001b[32m━━━━━━━━━━━━━━━━━━━━\u001b[0m\u001b[37m\u001b[0m \u001b[1m0s\u001b[0m 2ms/step - loss: 0.0013\n",
      "Epoch 84/100\n",
      "\u001b[1m152/152\u001b[0m \u001b[32m━━━━━━━━━━━━━━━━━━━━\u001b[0m\u001b[37m\u001b[0m \u001b[1m0s\u001b[0m 2ms/step - loss: 0.0013\n",
      "Epoch 85/100\n",
      "\u001b[1m152/152\u001b[0m \u001b[32m━━━━━━━━━━━━━━━━━━━━\u001b[0m\u001b[37m\u001b[0m \u001b[1m0s\u001b[0m 2ms/step - loss: 0.0012\n",
      "Epoch 86/100\n",
      "\u001b[1m152/152\u001b[0m \u001b[32m━━━━━━━━━━━━━━━━━━━━\u001b[0m\u001b[37m\u001b[0m \u001b[1m0s\u001b[0m 2ms/step - loss: 0.0013\n",
      "Epoch 87/100\n",
      "\u001b[1m152/152\u001b[0m \u001b[32m━━━━━━━━━━━━━━━━━━━━\u001b[0m\u001b[37m\u001b[0m \u001b[1m0s\u001b[0m 2ms/step - loss: 0.0013\n",
      "Epoch 88/100\n",
      "\u001b[1m152/152\u001b[0m \u001b[32m━━━━━━━━━━━━━━━━━━━━\u001b[0m\u001b[37m\u001b[0m \u001b[1m0s\u001b[0m 2ms/step - loss: 0.0013\n",
      "Epoch 89/100\n",
      "\u001b[1m152/152\u001b[0m \u001b[32m━━━━━━━━━━━━━━━━━━━━\u001b[0m\u001b[37m\u001b[0m \u001b[1m0s\u001b[0m 2ms/step - loss: 0.0013\n",
      "Epoch 90/100\n",
      "\u001b[1m152/152\u001b[0m \u001b[32m━━━━━━━━━━━━━━━━━━━━\u001b[0m\u001b[37m\u001b[0m \u001b[1m0s\u001b[0m 2ms/step - loss: 0.0014\n",
      "Epoch 91/100\n",
      "\u001b[1m152/152\u001b[0m \u001b[32m━━━━━━━━━━━━━━━━━━━━\u001b[0m\u001b[37m\u001b[0m \u001b[1m0s\u001b[0m 2ms/step - loss: 0.0011\n",
      "Epoch 92/100\n",
      "\u001b[1m152/152\u001b[0m \u001b[32m━━━━━━━━━━━━━━━━━━━━\u001b[0m\u001b[37m\u001b[0m \u001b[1m0s\u001b[0m 2ms/step - loss: 0.0012\n",
      "Epoch 93/100\n",
      "\u001b[1m152/152\u001b[0m \u001b[32m━━━━━━━━━━━━━━━━━━━━\u001b[0m\u001b[37m\u001b[0m \u001b[1m0s\u001b[0m 2ms/step - loss: 0.0013\n",
      "Epoch 94/100\n",
      "\u001b[1m152/152\u001b[0m \u001b[32m━━━━━━━━━━━━━━━━━━━━\u001b[0m\u001b[37m\u001b[0m \u001b[1m0s\u001b[0m 2ms/step - loss: 0.0012\n",
      "Epoch 95/100\n",
      "\u001b[1m152/152\u001b[0m \u001b[32m━━━━━━━━━━━━━━━━━━━━\u001b[0m\u001b[37m\u001b[0m \u001b[1m0s\u001b[0m 2ms/step - loss: 0.0010\n",
      "Epoch 96/100\n",
      "\u001b[1m152/152\u001b[0m \u001b[32m━━━━━━━━━━━━━━━━━━━━\u001b[0m\u001b[37m\u001b[0m \u001b[1m0s\u001b[0m 2ms/step - loss: 0.0011\n",
      "Epoch 97/100\n",
      "\u001b[1m152/152\u001b[0m \u001b[32m━━━━━━━━━━━━━━━━━━━━\u001b[0m\u001b[37m\u001b[0m \u001b[1m0s\u001b[0m 2ms/step - loss: 0.0012\n",
      "Epoch 98/100\n",
      "\u001b[1m152/152\u001b[0m \u001b[32m━━━━━━━━━━━━━━━━━━━━\u001b[0m\u001b[37m\u001b[0m \u001b[1m0s\u001b[0m 2ms/step - loss: 0.0011\n",
      "Epoch 99/100\n",
      "\u001b[1m152/152\u001b[0m \u001b[32m━━━━━━━━━━━━━━━━━━━━\u001b[0m\u001b[37m\u001b[0m \u001b[1m0s\u001b[0m 2ms/step - loss: 0.0010\n",
      "Epoch 100/100\n",
      "\u001b[1m152/152\u001b[0m \u001b[32m━━━━━━━━━━━━━━━━━━━━\u001b[0m\u001b[37m\u001b[0m \u001b[1m0s\u001b[0m 2ms/step - loss: 0.0011\n"
     ]
    },
    {
     "data": {
      "text/plain": [
       "<keras.src.callbacks.history.History at 0x7bd773f129e0>"
      ]
     },
     "execution_count": 18,
     "metadata": {},
     "output_type": "execute_result"
    }
   ],
   "source": [
    "model.fit(X,y,verbose=1,epochs=100,batch_size=32)"
   ]
  },
  {
   "cell_type": "markdown",
   "id": "75af92b7",
   "metadata": {
    "papermill": {
     "duration": 0.054062,
     "end_time": "2025-01-06T13:15:59.297630",
     "exception": false,
     "start_time": "2025-01-06T13:15:59.243568",
     "status": "completed"
    },
    "tags": []
   },
   "source": [
    "# Model Evaluation"
   ]
  },
  {
   "cell_type": "code",
   "execution_count": 19,
   "id": "d52c60f3",
   "metadata": {
    "execution": {
     "iopub.execute_input": "2025-01-06T13:15:59.414013Z",
     "iopub.status.busy": "2025-01-06T13:15:59.413534Z",
     "iopub.status.idle": "2025-01-06T13:15:59.884395Z",
     "shell.execute_reply": "2025-01-06T13:15:59.883150Z"
    },
    "papermill": {
     "duration": 0.534734,
     "end_time": "2025-01-06T13:15:59.886437",
     "exception": false,
     "start_time": "2025-01-06T13:15:59.351703",
     "status": "completed"
    },
    "tags": []
   },
   "outputs": [
    {
     "name": "stdout",
     "output_type": "stream",
     "text": [
      "\u001b[1m152/152\u001b[0m \u001b[32m━━━━━━━━━━━━━━━━━━━━\u001b[0m\u001b[37m\u001b[0m \u001b[1m0s\u001b[0m 1ms/step - loss: 2.5831e-05\n",
      "Model loss : 0.0001903449447127059\n"
     ]
    }
   ],
   "source": [
    "loss=model.evaluate(X,y)\n",
    "print(\"Model loss :\",loss)"
   ]
  },
  {
   "cell_type": "markdown",
   "id": "e9095197",
   "metadata": {
    "papermill": {
     "duration": 0.055712,
     "end_time": "2025-01-06T13:16:00.013832",
     "exception": false,
     "start_time": "2025-01-06T13:15:59.958120",
     "status": "completed"
    },
    "tags": []
   },
   "source": [
    "# Prediction"
   ]
  },
  {
   "cell_type": "code",
   "execution_count": 20,
   "id": "46ed6f21",
   "metadata": {
    "execution": {
     "iopub.execute_input": "2025-01-06T13:16:00.125854Z",
     "iopub.status.busy": "2025-01-06T13:16:00.125473Z",
     "iopub.status.idle": "2025-01-06T13:16:00.769925Z",
     "shell.execute_reply": "2025-01-06T13:16:00.768599Z"
    },
    "papermill": {
     "duration": 0.702148,
     "end_time": "2025-01-06T13:16:00.771727",
     "exception": false,
     "start_time": "2025-01-06T13:16:00.069579",
     "status": "completed"
    },
    "tags": []
   },
   "outputs": [
    {
     "name": "stdout",
     "output_type": "stream",
     "text": [
      "\u001b[1m152/152\u001b[0m \u001b[32m━━━━━━━━━━━━━━━━━━━━\u001b[0m\u001b[37m\u001b[0m \u001b[1m1s\u001b[0m 2ms/step\n",
      "[[0.00132436]\n",
      " [0.00131271]\n",
      " [0.00132226]\n",
      " [0.0013249 ]\n",
      " [0.00129767]\n",
      " [0.00126797]\n",
      " [0.00118756]\n",
      " [0.00109787]\n",
      " [0.00101919]\n",
      " [0.00099094]]\n"
     ]
    }
   ],
   "source": [
    "predictions=model.predict(X)\n",
    "predictions=scaler.fit_transform(predictions)\n",
    "print(predictions[:10])"
   ]
  },
  {
   "cell_type": "code",
   "execution_count": 21,
   "id": "64fedca5",
   "metadata": {
    "execution": {
     "iopub.execute_input": "2025-01-06T13:16:00.883220Z",
     "iopub.status.busy": "2025-01-06T13:16:00.882810Z",
     "iopub.status.idle": "2025-01-06T13:16:00.888534Z",
     "shell.execute_reply": "2025-01-06T13:16:00.887434Z"
    },
    "papermill": {
     "duration": 0.062344,
     "end_time": "2025-01-06T13:16:00.890272",
     "exception": false,
     "start_time": "2025-01-06T13:16:00.827928",
     "status": "completed"
    },
    "tags": []
   },
   "outputs": [],
   "source": [
    "actual_values=scaler.fit_transform(y.reshape(-1,1))"
   ]
  },
  {
   "cell_type": "markdown",
   "id": "13343424",
   "metadata": {
    "papermill": {
     "duration": 0.053483,
     "end_time": "2025-01-06T13:16:01.001081",
     "exception": false,
     "start_time": "2025-01-06T13:16:00.947598",
     "status": "completed"
    },
    "tags": []
   },
   "source": [
    "# Actual Values Vs Predicted Values"
   ]
  },
  {
   "cell_type": "code",
   "execution_count": 22,
   "id": "c7e4f1be",
   "metadata": {
    "execution": {
     "iopub.execute_input": "2025-01-06T13:16:01.167677Z",
     "iopub.status.busy": "2025-01-06T13:16:01.167274Z",
     "iopub.status.idle": "2025-01-06T13:16:01.408518Z",
     "shell.execute_reply": "2025-01-06T13:16:01.407386Z"
    },
    "papermill": {
     "duration": 0.2987,
     "end_time": "2025-01-06T13:16:01.410269",
     "exception": false,
     "start_time": "2025-01-06T13:16:01.111569",
     "status": "completed"
    },
    "tags": []
   },
   "outputs": [
    {
     "data": {
      "image/png": "[encoded data removed]",
      "text/plain": [
       "<Figure size 1200x600 with 1 Axes>"
      ]
     },
     "metadata": {},
     "output_type": "display_data"
    }
   ],
   "source": [
    "plt.figure(figsize=(12,6))\n",
    "plt.plot(actual_values,label=\"Actual Values\",color=\"green\")\n",
    "plt.plot(predictions,label=\"Predictions\",color=\"red\")\n",
    "plt.legend()\n",
    "plt.title(\"Actual Value Vs Predictions\")\n",
    "plt.show()"
   ]
  },
  {
   "cell_type": "code",
   "execution_count": null,
   "id": "0b5ffc02",
   "metadata": {
    "papermill": {
     "duration": 0.06169,
     "end_time": "2025-01-06T13:16:01.527638",
     "exception": false,
     "start_time": "2025-01-06T13:16:01.465948",
     "status": "completed"
    },
    "tags": []
   },
   "outputs": [],
   "source": []
  }
 ],
 "metadata": {
  "kaggle": {
   "accelerator": "none",
   "dataSources": [
    {
     "datasetId": 1612616,
     "sourceId": 10383879,
     "sourceType": "datasetVersion"
    }
   ],
   "isGpuEnabled": false,
   "isInternetEnabled": true,
   "language": "python",
   "sourceType": "notebook"
  },
  "kernelspec": {
   "display_name": "Python 3 (ipykernel)",
   "language": "python",
   "name": "python3"
  },
  "language_info": {
   "codemirror_mode": {
    "name": "ipython",
    "version": 3
   },
   "file_extension": ".py",
   "mimetype": "text/x-python",
   "name": "python",
   "nbconvert_exporter": "python",
   "pygments_lexer": "ipython3",
   "version": "3.10.12"
  },
  "papermill": {
   "default_parameters": {},
   "duration": 54.996998,
   "end_time": "2025-01-06T13:16:03.210340",
   "environment_variables": {},
   "exception": null,
   "input_path": "__notebook__.ipynb",
   "output_path": "__notebook__.ipynb",
   "parameters": {},
   "start_time": "2025-01-06T13:15:08.213342",
   "version": "2.6.0"
  }
 },
 "nbformat": 4,
 "nbformat_minor": 5
}
